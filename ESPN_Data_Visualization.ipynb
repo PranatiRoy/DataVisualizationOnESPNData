{
  "nbformat": 4,
  "nbformat_minor": 0,
  "metadata": {
    "colab": {
      "name": "ESPN Data Visualization.ipynb",
      "provenance": [],
      "collapsed_sections": []
    },
    "kernelspec": {
      "name": "python3",
      "display_name": "Python 3"
    },
    "language_info": {
      "name": "python"
    }
  },
  "cells": [
    {
      "cell_type": "markdown",
      "metadata": {
        "id": "hwDwK2J8GxtC"
      },
      "source": [
        "#Importing Libraries"
      ]
    },
    {
      "cell_type": "code",
      "metadata": {
        "id": "hATptRLkEiVg"
      },
      "source": [
        "import seaborn as sns\n",
        "import pandas as pd\n",
        "import matplotlib as mpb\n",
        "import matplotlib.pyplot as plt"
      ],
      "execution_count": 16,
      "outputs": []
    },
    {
      "cell_type": "markdown",
      "metadata": {
        "id": "npnSIHOPG_SV"
      },
      "source": [
        "#Reading Dataset"
      ]
    },
    {
      "cell_type": "code",
      "metadata": {
        "colab": {
          "base_uri": "https://localhost:8080/",
          "height": 200
        },
        "id": "hpazU0SAEwVP",
        "outputId": "9bb78a8f-6302-48ae-a967-68598c80e7cb"
      },
      "source": [
        "odi=pd.read_csv(\"/content/CricinfoICC ODI Championship.csv\")\n",
        "odi.head()"
      ],
      "execution_count": 24,
      "outputs": [
        {
          "output_type": "execute_result",
          "data": {
            "text/html": [
              "<div>\n",
              "<style scoped>\n",
              "    .dataframe tbody tr th:only-of-type {\n",
              "        vertical-align: middle;\n",
              "    }\n",
              "\n",
              "    .dataframe tbody tr th {\n",
              "        vertical-align: top;\n",
              "    }\n",
              "\n",
              "    .dataframe thead th {\n",
              "        text-align: right;\n",
              "    }\n",
              "</style>\n",
              "<table border=\"1\" class=\"dataframe\">\n",
              "  <thead>\n",
              "    <tr style=\"text-align: right;\">\n",
              "      <th></th>\n",
              "      <th>pos</th>\n",
              "      <th>team</th>\n",
              "      <th>matches</th>\n",
              "      <th>points</th>\n",
              "      <th>rating</th>\n",
              "    </tr>\n",
              "  </thead>\n",
              "  <tbody>\n",
              "    <tr>\n",
              "      <th>0</th>\n",
              "      <td>1</td>\n",
              "      <td>England</td>\n",
              "      <td>47</td>\n",
              "      <td>5708</td>\n",
              "      <td>121</td>\n",
              "    </tr>\n",
              "    <tr>\n",
              "      <th>1</th>\n",
              "      <td>2</td>\n",
              "      <td>India</td>\n",
              "      <td>55</td>\n",
              "      <td>6520</td>\n",
              "      <td>119</td>\n",
              "    </tr>\n",
              "    <tr>\n",
              "      <th>2</th>\n",
              "      <td>3</td>\n",
              "      <td>New Zealand</td>\n",
              "      <td>35</td>\n",
              "      <td>4137</td>\n",
              "      <td>118</td>\n",
              "    </tr>\n",
              "    <tr>\n",
              "      <th>3</th>\n",
              "      <td>4</td>\n",
              "      <td>Australia</td>\n",
              "      <td>39</td>\n",
              "      <td>4344</td>\n",
              "      <td>111</td>\n",
              "    </tr>\n",
              "    <tr>\n",
              "      <th>4</th>\n",
              "      <td>5</td>\n",
              "      <td>South Africa</td>\n",
              "      <td>31</td>\n",
              "      <td>3345</td>\n",
              "      <td>108</td>\n",
              "    </tr>\n",
              "  </tbody>\n",
              "</table>\n",
              "</div>"
            ],
            "text/plain": [
              "   pos          team  matches  points  rating\n",
              "0    1       England       47    5708     121\n",
              "1    2         India       55    6520     119\n",
              "2    3   New Zealand       35    4137     118\n",
              "3    4     Australia       39    4344     111\n",
              "4    5  South Africa       31    3345     108"
            ]
          },
          "metadata": {
            "tags": []
          },
          "execution_count": 24
        }
      ]
    },
    {
      "cell_type": "code",
      "metadata": {
        "colab": {
          "base_uri": "https://localhost:8080/",
          "height": 200
        },
        "id": "gLJo6o47FcZ3",
        "outputId": "3226b269-9abf-44bf-a67c-04a49b1bf580"
      },
      "source": [
        "wodi=pd.read_csv(\"/content/CricinfoICC Women's ODI Team Rankings.csv\")\n",
        "wodi.head()"
      ],
      "execution_count": 14,
      "outputs": [
        {
          "output_type": "execute_result",
          "data": {
            "text/html": [
              "<div>\n",
              "<style scoped>\n",
              "    .dataframe tbody tr th:only-of-type {\n",
              "        vertical-align: middle;\n",
              "    }\n",
              "\n",
              "    .dataframe tbody tr th {\n",
              "        vertical-align: top;\n",
              "    }\n",
              "\n",
              "    .dataframe thead th {\n",
              "        text-align: right;\n",
              "    }\n",
              "</style>\n",
              "<table border=\"1\" class=\"dataframe\">\n",
              "  <thead>\n",
              "    <tr style=\"text-align: right;\">\n",
              "      <th></th>\n",
              "      <th>pos</th>\n",
              "      <th>team</th>\n",
              "      <th>matches</th>\n",
              "      <th>points</th>\n",
              "      <th>rating</th>\n",
              "    </tr>\n",
              "  </thead>\n",
              "  <tbody>\n",
              "    <tr>\n",
              "      <th>0</th>\n",
              "      <td>1</td>\n",
              "      <td>Australia Women</td>\n",
              "      <td>15</td>\n",
              "      <td>2436</td>\n",
              "      <td>162</td>\n",
              "    </tr>\n",
              "    <tr>\n",
              "      <th>1</th>\n",
              "      <td>2</td>\n",
              "      <td>South Africa Women</td>\n",
              "      <td>24</td>\n",
              "      <td>2828</td>\n",
              "      <td>118</td>\n",
              "    </tr>\n",
              "    <tr>\n",
              "      <th>2</th>\n",
              "      <td>3</td>\n",
              "      <td>England Women</td>\n",
              "      <td>17</td>\n",
              "      <td>1993</td>\n",
              "      <td>117</td>\n",
              "    </tr>\n",
              "    <tr>\n",
              "      <th>3</th>\n",
              "      <td>4</td>\n",
              "      <td>India Women</td>\n",
              "      <td>20</td>\n",
              "      <td>2226</td>\n",
              "      <td>111</td>\n",
              "    </tr>\n",
              "    <tr>\n",
              "      <th>4</th>\n",
              "      <td>5</td>\n",
              "      <td>New Zealand Women</td>\n",
              "      <td>18</td>\n",
              "      <td>1696</td>\n",
              "      <td>94</td>\n",
              "    </tr>\n",
              "  </tbody>\n",
              "</table>\n",
              "</div>"
            ],
            "text/plain": [
              "   pos                team  matches  points  rating\n",
              "0    1     Australia Women       15    2436     162\n",
              "1    2  South Africa Women       24    2828     118\n",
              "2    3       England Women       17    1993     117\n",
              "3    4         India Women       20    2226     111\n",
              "4    5   New Zealand Women       18    1696      94"
            ]
          },
          "metadata": {
            "tags": []
          },
          "execution_count": 14
        }
      ]
    },
    {
      "cell_type": "code",
      "metadata": {
        "colab": {
          "base_uri": "https://localhost:8080/"
        },
        "id": "-sicp8aPJ76R",
        "outputId": "9acddd8b-d763-4251-e22b-df62ae0f8016"
      },
      "source": [
        "odi['team']"
      ],
      "execution_count": 25,
      "outputs": [
        {
          "output_type": "execute_result",
          "data": {
            "text/plain": [
              "0          England\n",
              "1            India\n",
              "2      New Zealand\n",
              "3        Australia\n",
              "4     South Africa\n",
              "5         Pakistan\n",
              "6       Bangladesh\n",
              "7        Sri Lanka\n",
              "8      West Indies\n",
              "9      Afghanistan\n",
              "10         Ireland\n",
              "11     Netherlands\n",
              "12        Zimbabwe\n",
              "13            Oman\n",
              "14        Scotland\n",
              "15             UAE\n",
              "16           Nepal\n",
              "17         Namibia\n",
              "18             USA\n",
              "19             PNG\n",
              "Name: team, dtype: object"
            ]
          },
          "metadata": {
            "tags": []
          },
          "execution_count": 25
        }
      ]
    },
    {
      "cell_type": "code",
      "metadata": {
        "id": "0itPP6x_FxMU"
      },
      "source": [
        "#Trimming the team names because of different lengths name\n",
        "def trim(x):\n",
        "  a=x[:3]\n",
        "  return a"
      ],
      "execution_count": 27,
      "outputs": []
    },
    {
      "cell_type": "code",
      "metadata": {
        "colab": {
          "base_uri": "https://localhost:8080/",
          "height": 139
        },
        "id": "4Tcd8De_F08b",
        "outputId": "6d862723-460f-4d05-cf8d-6192e8d2f917"
      },
      "source": [
        "odi['team']=odi['team'].apply(trim)\n",
        "odi.head(3)"
      ],
      "execution_count": 28,
      "outputs": [
        {
          "output_type": "execute_result",
          "data": {
            "text/html": [
              "<div>\n",
              "<style scoped>\n",
              "    .dataframe tbody tr th:only-of-type {\n",
              "        vertical-align: middle;\n",
              "    }\n",
              "\n",
              "    .dataframe tbody tr th {\n",
              "        vertical-align: top;\n",
              "    }\n",
              "\n",
              "    .dataframe thead th {\n",
              "        text-align: right;\n",
              "    }\n",
              "</style>\n",
              "<table border=\"1\" class=\"dataframe\">\n",
              "  <thead>\n",
              "    <tr style=\"text-align: right;\">\n",
              "      <th></th>\n",
              "      <th>pos</th>\n",
              "      <th>team</th>\n",
              "      <th>matches</th>\n",
              "      <th>points</th>\n",
              "      <th>rating</th>\n",
              "      <th>gender</th>\n",
              "    </tr>\n",
              "  </thead>\n",
              "  <tbody>\n",
              "    <tr>\n",
              "      <th>0</th>\n",
              "      <td>1</td>\n",
              "      <td>Eng</td>\n",
              "      <td>47</td>\n",
              "      <td>5708</td>\n",
              "      <td>121</td>\n",
              "      <td>Male</td>\n",
              "    </tr>\n",
              "    <tr>\n",
              "      <th>1</th>\n",
              "      <td>2</td>\n",
              "      <td>Ind</td>\n",
              "      <td>55</td>\n",
              "      <td>6520</td>\n",
              "      <td>119</td>\n",
              "      <td>Male</td>\n",
              "    </tr>\n",
              "    <tr>\n",
              "      <th>2</th>\n",
              "      <td>3</td>\n",
              "      <td>New</td>\n",
              "      <td>35</td>\n",
              "      <td>4137</td>\n",
              "      <td>118</td>\n",
              "      <td>Male</td>\n",
              "    </tr>\n",
              "  </tbody>\n",
              "</table>\n",
              "</div>"
            ],
            "text/plain": [
              "   pos team  matches  points  rating gender\n",
              "0    1  Eng       47    5708     121   Male\n",
              "1    2  Ind       55    6520     119   Male\n",
              "2    3  New       35    4137     118   Male"
            ]
          },
          "metadata": {
            "tags": []
          },
          "execution_count": 28
        }
      ]
    },
    {
      "cell_type": "code",
      "metadata": {
        "colab": {
          "base_uri": "https://localhost:8080/"
        },
        "id": "4ZWRcZxhIWwM",
        "outputId": "642475eb-fafd-48ba-d93c-48c643d9925c"
      },
      "source": [
        "odi['team']"
      ],
      "execution_count": 10,
      "outputs": [
        {
          "output_type": "execute_result",
          "data": {
            "text/plain": [
              "0     Eng\n",
              "1     Ind\n",
              "2     New\n",
              "3     Aus\n",
              "4     Sou\n",
              "5     Pak\n",
              "6     Ban\n",
              "7     Sri\n",
              "8     Wes\n",
              "9     Afg\n",
              "10    Ire\n",
              "11    Net\n",
              "12    Zim\n",
              "13    Oma\n",
              "14    Sco\n",
              "15    UAE\n",
              "16    Nep\n",
              "17    Nam\n",
              "18    USA\n",
              "19    PNG\n",
              "Name: team, dtype: object"
            ]
          },
          "metadata": {
            "tags": []
          },
          "execution_count": 10
        }
      ]
    },
    {
      "cell_type": "code",
      "metadata": {
        "colab": {
          "base_uri": "https://localhost:8080/",
          "height": 139
        },
        "id": "6xgX0mSoF7Jq",
        "outputId": "275621f6-a6d1-4f34-99ea-da1e55585136"
      },
      "source": [
        "wodi['team']=wodi['team'].apply(trim)\n",
        "wodi.head(3)"
      ],
      "execution_count": 35,
      "outputs": [
        {
          "output_type": "execute_result",
          "data": {
            "text/html": [
              "<div>\n",
              "<style scoped>\n",
              "    .dataframe tbody tr th:only-of-type {\n",
              "        vertical-align: middle;\n",
              "    }\n",
              "\n",
              "    .dataframe tbody tr th {\n",
              "        vertical-align: top;\n",
              "    }\n",
              "\n",
              "    .dataframe thead th {\n",
              "        text-align: right;\n",
              "    }\n",
              "</style>\n",
              "<table border=\"1\" class=\"dataframe\">\n",
              "  <thead>\n",
              "    <tr style=\"text-align: right;\">\n",
              "      <th></th>\n",
              "      <th>pos</th>\n",
              "      <th>team</th>\n",
              "      <th>matches</th>\n",
              "      <th>points</th>\n",
              "      <th>rating</th>\n",
              "      <th>gender</th>\n",
              "    </tr>\n",
              "  </thead>\n",
              "  <tbody>\n",
              "    <tr>\n",
              "      <th>0</th>\n",
              "      <td>1</td>\n",
              "      <td>Aus</td>\n",
              "      <td>15</td>\n",
              "      <td>2436</td>\n",
              "      <td>162</td>\n",
              "      <td>Female</td>\n",
              "    </tr>\n",
              "    <tr>\n",
              "      <th>1</th>\n",
              "      <td>2</td>\n",
              "      <td>Sou</td>\n",
              "      <td>24</td>\n",
              "      <td>2828</td>\n",
              "      <td>118</td>\n",
              "      <td>Female</td>\n",
              "    </tr>\n",
              "    <tr>\n",
              "      <th>2</th>\n",
              "      <td>3</td>\n",
              "      <td>Eng</td>\n",
              "      <td>17</td>\n",
              "      <td>1993</td>\n",
              "      <td>117</td>\n",
              "      <td>Female</td>\n",
              "    </tr>\n",
              "  </tbody>\n",
              "</table>\n",
              "</div>"
            ],
            "text/plain": [
              "   pos team  matches  points  rating  gender\n",
              "0    1  Aus       15    2436     162  Female\n",
              "1    2  Sou       24    2828     118  Female\n",
              "2    3  Eng       17    1993     117  Female"
            ]
          },
          "metadata": {
            "tags": []
          },
          "execution_count": 35
        }
      ]
    },
    {
      "cell_type": "code",
      "metadata": {
        "id": "iFNLV3OQF-vA"
      },
      "source": [
        "#increasing the font size\n",
        "mpb.rcParams['font.size']=25  "
      ],
      "execution_count": 8,
      "outputs": []
    },
    {
      "cell_type": "code",
      "metadata": {
        "colab": {
          "base_uri": "https://localhost:8080/",
          "height": 418
        },
        "id": "-DKsHljCGFpa",
        "outputId": "ae11c614-6f70-40a0-daf4-7d1a9921c1af"
      },
      "source": [
        "import matplotlib.pyplot as plt\n",
        "f,ax=plt.subplots(figsize=(15,5))\n",
        "\n",
        "ax=sns.barplot('team','points',data=odi)"
      ],
      "execution_count": 21,
      "outputs": [
        {
          "output_type": "stream",
          "text": [
            "/usr/local/lib/python3.7/dist-packages/seaborn/_decorators.py:43: FutureWarning: Pass the following variables as keyword args: x, y. From version 0.12, the only valid positional argument will be `data`, and passing other arguments without an explicit keyword will result in an error or misinterpretation.\n",
            "  FutureWarning\n"
          ],
          "name": "stderr"
        },
        {
          "output_type": "display_data",
          "data": {
            "image/png": "[encoded data removed]",
            "text/plain": [
              "<Figure size 1080x360 with 1 Axes>"
            ]
          },
          "metadata": {
            "tags": [],
            "needs_background": "light"
          }
        }
      ]
    },
    {
      "cell_type": "markdown",
      "metadata": {
        "id": "j5DwJAovH_EW"
      },
      "source": [
        "Wee see that in odi championship match England is at Highest Points and USA team is at Lowest Points"
      ]
    },
    {
      "cell_type": "code",
      "metadata": {
        "colab": {
          "base_uri": "https://localhost:8080/",
          "height": 357
        },
        "id": "M6Qm6fn1GH3j",
        "outputId": "63cd2844-887f-4724-cd8c-e1c0fca5b6cb"
      },
      "source": [
        "f,ax=plt.subplots(figsize=(20,5))\n",
        "\n",
        "ax=sns.barplot('team','rating',data=odi)"
      ],
      "execution_count": 22,
      "outputs": [
        {
          "output_type": "stream",
          "text": [
            "/usr/local/lib/python3.7/dist-packages/seaborn/_decorators.py:43: FutureWarning: Pass the following variables as keyword args: x, y. From version 0.12, the only valid positional argument will be `data`, and passing other arguments without an explicit keyword will result in an error or misinterpretation.\n",
            "  FutureWarning\n"
          ],
          "name": "stderr"
        },
        {
          "output_type": "display_data",
          "data": {
            "image/png": "[encoded data removed]",
            "text/plain": [
              "<Figure size 1440x360 with 1 Axes>"
            ]
          },
          "metadata": {
            "tags": [],
            "needs_background": "light"
          }
        }
      ]
    },
    {
      "cell_type": "code",
      "metadata": {
        "colab": {
          "base_uri": "https://localhost:8080/",
          "height": 690
        },
        "id": "OLiSyC1DGKTG",
        "outputId": "a7ed6e74-7460-4979-caf9-2cd243319209"
      },
      "source": [
        "f,ax=plt.subplots(figsize=(15,10))\n",
        "\n",
        "ax=sns.barplot('rating','team',data=odi)"
      ],
      "execution_count": 23,
      "outputs": [
        {
          "output_type": "stream",
          "text": [
            "/usr/local/lib/python3.7/dist-packages/seaborn/_decorators.py:43: FutureWarning: Pass the following variables as keyword args: x, y. From version 0.12, the only valid positional argument will be `data`, and passing other arguments without an explicit keyword will result in an error or misinterpretation.\n",
            "  FutureWarning\n"
          ],
          "name": "stderr"
        },
        {
          "output_type": "display_data",
          "data": {
            "image/png": "[encoded data removed]",
            "text/plain": [
              "<Figure size 1080x720 with 1 Axes>"
            ]
          },
          "metadata": {
            "tags": [],
            "needs_background": "light"
          }
        }
      ]
    },
    {
      "cell_type": "markdown",
      "metadata": {
        "id": "dPAhrX2wJDYp"
      },
      "source": [
        "So, We see that according to Match Points, Rating wise England is at first position and USA is at the last position in the ODI match"
      ]
    },
    {
      "cell_type": "code",
      "metadata": {
        "colab": {
          "base_uri": "https://localhost:8080/",
          "height": 690
        },
        "id": "KMouIg-sGUHo",
        "outputId": "f0861027-f6b7-478a-ecd2-8cba7b9b8d51"
      },
      "source": [
        "f,ax=plt.subplots(figsize=(15,10))\n",
        "\n",
        "ax=sns.barplot('rating','team',data=wodi)"
      ],
      "execution_count": null,
      "outputs": [
        {
          "output_type": "stream",
          "text": [
            "/usr/local/lib/python3.7/dist-packages/seaborn/_decorators.py:43: FutureWarning: Pass the following variables as keyword args: x, y. From version 0.12, the only valid positional argument will be `data`, and passing other arguments without an explicit keyword will result in an error or misinterpretation.\n",
            "  FutureWarning\n"
          ],
          "name": "stderr"
        },
        {
          "output_type": "display_data",
          "data": {
            "image/png": "[encoded data removed]",
            "text/plain": [
              "<Figure size 1080x720 with 1 Axes>"
            ]
          },
          "metadata": {
            "tags": [],
            "needs_background": "light"
          }
        }
      ]
    },
    {
      "cell_type": "markdown",
      "metadata": {
        "id": "Q13PXQyWJnvv"
      },
      "source": [
        "So, We see thatRating wise Australia is at first position and Ireland is at the last position in the womenODI match"
      ]
    },
    {
      "cell_type": "code",
      "metadata": {
        "colab": {
          "base_uri": "https://localhost:8080/",
          "height": 418
        },
        "id": "uwvwHIOJGcPn",
        "outputId": "94ae4637-bdad-41cd-f149-bf83290f4d02"
      },
      "source": [
        "f,ax=plt.subplots(figsize=(15,5))\n",
        "\n",
        "ax=sns.barplot('matches','team',data=wodi)"
      ],
      "execution_count": null,
      "outputs": [
        {
          "output_type": "stream",
          "text": [
            "/usr/local/lib/python3.7/dist-packages/seaborn/_decorators.py:43: FutureWarning: Pass the following variables as keyword args: x, y. From version 0.12, the only valid positional argument will be `data`, and passing other arguments without an explicit keyword will result in an error or misinterpretation.\n",
            "  FutureWarning\n"
          ],
          "name": "stderr"
        },
        {
          "output_type": "display_data",
          "data": {
            "image/png": "[encoded data removed]",
            "text/plain": [
              "<Figure size 1080x360 with 1 Axes>"
            ]
          },
          "metadata": {
            "tags": [],
            "needs_background": "light"
          }
        }
      ]
    },
    {
      "cell_type": "markdown",
      "metadata": {
        "id": "AHWSggKTJ1Vn"
      },
      "source": [
        "Here Wee see that South Africa team plays the highest number of matches"
      ]
    },
    {
      "cell_type": "code",
      "metadata": {
        "colab": {
          "base_uri": "https://localhost:8080/",
          "height": 655
        },
        "id": "ZoGje08BGgt9",
        "outputId": "ed4d728e-5061-4f17-9e88-59825ef0e655"
      },
      "source": [
        "#Introducing a new 'gender' column\n",
        "wodi['gender']='Female'\n",
        "\n",
        "odi['gender']='Male'\n",
        "odi"
      ],
      "execution_count": 30,
      "outputs": [
        {
          "output_type": "execute_result",
          "data": {
            "text/html": [
              "<div>\n",
              "<style scoped>\n",
              "    .dataframe tbody tr th:only-of-type {\n",
              "        vertical-align: middle;\n",
              "    }\n",
              "\n",
              "    .dataframe tbody tr th {\n",
              "        vertical-align: top;\n",
              "    }\n",
              "\n",
              "    .dataframe thead th {\n",
              "        text-align: right;\n",
              "    }\n",
              "</style>\n",
              "<table border=\"1\" class=\"dataframe\">\n",
              "  <thead>\n",
              "    <tr style=\"text-align: right;\">\n",
              "      <th></th>\n",
              "      <th>pos</th>\n",
              "      <th>team</th>\n",
              "      <th>matches</th>\n",
              "      <th>points</th>\n",
              "      <th>rating</th>\n",
              "      <th>gender</th>\n",
              "    </tr>\n",
              "  </thead>\n",
              "  <tbody>\n",
              "    <tr>\n",
              "      <th>0</th>\n",
              "      <td>1</td>\n",
              "      <td>Eng</td>\n",
              "      <td>47</td>\n",
              "      <td>5708</td>\n",
              "      <td>121</td>\n",
              "      <td>Male</td>\n",
              "    </tr>\n",
              "    <tr>\n",
              "      <th>1</th>\n",
              "      <td>2</td>\n",
              "      <td>Ind</td>\n",
              "      <td>55</td>\n",
              "      <td>6520</td>\n",
              "      <td>119</td>\n",
              "      <td>Male</td>\n",
              "    </tr>\n",
              "    <tr>\n",
              "      <th>2</th>\n",
              "      <td>3</td>\n",
              "      <td>New</td>\n",
              "      <td>35</td>\n",
              "      <td>4137</td>\n",
              "      <td>118</td>\n",
              "      <td>Male</td>\n",
              "    </tr>\n",
              "    <tr>\n",
              "      <th>3</th>\n",
              "      <td>4</td>\n",
              "      <td>Aus</td>\n",
              "      <td>39</td>\n",
              "      <td>4344</td>\n",
              "      <td>111</td>\n",
              "      <td>Male</td>\n",
              "    </tr>\n",
              "    <tr>\n",
              "      <th>4</th>\n",
              "      <td>5</td>\n",
              "      <td>Sou</td>\n",
              "      <td>31</td>\n",
              "      <td>3345</td>\n",
              "      <td>108</td>\n",
              "      <td>Male</td>\n",
              "    </tr>\n",
              "    <tr>\n",
              "      <th>5</th>\n",
              "      <td>6</td>\n",
              "      <td>Pak</td>\n",
              "      <td>35</td>\n",
              "      <td>3490</td>\n",
              "      <td>100</td>\n",
              "      <td>Male</td>\n",
              "    </tr>\n",
              "    <tr>\n",
              "      <th>6</th>\n",
              "      <td>7</td>\n",
              "      <td>Ban</td>\n",
              "      <td>40</td>\n",
              "      <td>3567</td>\n",
              "      <td>89</td>\n",
              "      <td>Male</td>\n",
              "    </tr>\n",
              "    <tr>\n",
              "      <th>7</th>\n",
              "      <td>8</td>\n",
              "      <td>Sri</td>\n",
              "      <td>42</td>\n",
              "      <td>3372</td>\n",
              "      <td>80</td>\n",
              "      <td>Male</td>\n",
              "    </tr>\n",
              "    <tr>\n",
              "      <th>8</th>\n",
              "      <td>9</td>\n",
              "      <td>Wes</td>\n",
              "      <td>49</td>\n",
              "      <td>3802</td>\n",
              "      <td>78</td>\n",
              "      <td>Male</td>\n",
              "    </tr>\n",
              "    <tr>\n",
              "      <th>9</th>\n",
              "      <td>10</td>\n",
              "      <td>Afg</td>\n",
              "      <td>31</td>\n",
              "      <td>1844</td>\n",
              "      <td>59</td>\n",
              "      <td>Male</td>\n",
              "    </tr>\n",
              "    <tr>\n",
              "      <th>10</th>\n",
              "      <td>11</td>\n",
              "      <td>Ire</td>\n",
              "      <td>29</td>\n",
              "      <td>1316</td>\n",
              "      <td>45</td>\n",
              "      <td>Male</td>\n",
              "    </tr>\n",
              "    <tr>\n",
              "      <th>11</th>\n",
              "      <td>12</td>\n",
              "      <td>Net</td>\n",
              "      <td>5</td>\n",
              "      <td>222</td>\n",
              "      <td>44</td>\n",
              "      <td>Male</td>\n",
              "    </tr>\n",
              "    <tr>\n",
              "      <th>12</th>\n",
              "      <td>13</td>\n",
              "      <td>Zim</td>\n",
              "      <td>27</td>\n",
              "      <td>1121</td>\n",
              "      <td>42</td>\n",
              "      <td>Male</td>\n",
              "    </tr>\n",
              "    <tr>\n",
              "      <th>13</th>\n",
              "      <td>14</td>\n",
              "      <td>Oma</td>\n",
              "      <td>12</td>\n",
              "      <td>479</td>\n",
              "      <td>40</td>\n",
              "      <td>Male</td>\n",
              "    </tr>\n",
              "    <tr>\n",
              "      <th>14</th>\n",
              "      <td>15</td>\n",
              "      <td>Sco</td>\n",
              "      <td>16</td>\n",
              "      <td>419</td>\n",
              "      <td>26</td>\n",
              "      <td>Male</td>\n",
              "    </tr>\n",
              "    <tr>\n",
              "      <th>15</th>\n",
              "      <td>16</td>\n",
              "      <td>UAE</td>\n",
              "      <td>17</td>\n",
              "      <td>360</td>\n",
              "      <td>21</td>\n",
              "      <td>Male</td>\n",
              "    </tr>\n",
              "    <tr>\n",
              "      <th>16</th>\n",
              "      <td>17</td>\n",
              "      <td>Nep</td>\n",
              "      <td>9</td>\n",
              "      <td>161</td>\n",
              "      <td>18</td>\n",
              "      <td>Male</td>\n",
              "    </tr>\n",
              "    <tr>\n",
              "      <th>17</th>\n",
              "      <td>18</td>\n",
              "      <td>Nam</td>\n",
              "      <td>9</td>\n",
              "      <td>152</td>\n",
              "      <td>17</td>\n",
              "      <td>Male</td>\n",
              "    </tr>\n",
              "    <tr>\n",
              "      <th>18</th>\n",
              "      <td>19</td>\n",
              "      <td>USA</td>\n",
              "      <td>14</td>\n",
              "      <td>185</td>\n",
              "      <td>13</td>\n",
              "      <td>Male</td>\n",
              "    </tr>\n",
              "    <tr>\n",
              "      <th>19</th>\n",
              "      <td>20</td>\n",
              "      <td>PNG</td>\n",
              "      <td>14</td>\n",
              "      <td>0</td>\n",
              "      <td>0</td>\n",
              "      <td>Male</td>\n",
              "    </tr>\n",
              "  </tbody>\n",
              "</table>\n",
              "</div>"
            ],
            "text/plain": [
              "    pos team  matches  points  rating gender\n",
              "0     1  Eng       47    5708     121   Male\n",
              "1     2  Ind       55    6520     119   Male\n",
              "2     3  New       35    4137     118   Male\n",
              "3     4  Aus       39    4344     111   Male\n",
              "4     5  Sou       31    3345     108   Male\n",
              "5     6  Pak       35    3490     100   Male\n",
              "6     7  Ban       40    3567      89   Male\n",
              "7     8  Sri       42    3372      80   Male\n",
              "8     9  Wes       49    3802      78   Male\n",
              "9    10  Afg       31    1844      59   Male\n",
              "10   11  Ire       29    1316      45   Male\n",
              "11   12  Net        5     222      44   Male\n",
              "12   13  Zim       27    1121      42   Male\n",
              "13   14  Oma       12     479      40   Male\n",
              "14   15  Sco       16     419      26   Male\n",
              "15   16  UAE       17     360      21   Male\n",
              "16   17  Nep        9     161      18   Male\n",
              "17   18  Nam        9     152      17   Male\n",
              "18   19  USA       14     185      13   Male\n",
              "19   20  PNG       14       0       0   Male"
            ]
          },
          "metadata": {
            "tags": []
          },
          "execution_count": 30
        }
      ]
    },
    {
      "cell_type": "code",
      "metadata": {
        "colab": {
          "base_uri": "https://localhost:8080/",
          "height": 959
        },
        "id": "k2BtFa07Gquq",
        "outputId": "89581a44-b82e-426a-9db0-7f389b65af6f"
      },
      "source": [
        "#Creating a combined dataset\n",
        "combined=pd.concat([wodi,odi],ignore_index=True)\n",
        "combined"
      ],
      "execution_count": 36,
      "outputs": [
        {
          "output_type": "execute_result",
          "data": {
            "text/html": [
              "<div>\n",
              "<style scoped>\n",
              "    .dataframe tbody tr th:only-of-type {\n",
              "        vertical-align: middle;\n",
              "    }\n",
              "\n",
              "    .dataframe tbody tr th {\n",
              "        vertical-align: top;\n",
              "    }\n",
              "\n",
              "    .dataframe thead th {\n",
              "        text-align: right;\n",
              "    }\n",
              "</style>\n",
              "<table border=\"1\" class=\"dataframe\">\n",
              "  <thead>\n",
              "    <tr style=\"text-align: right;\">\n",
              "      <th></th>\n",
              "      <th>pos</th>\n",
              "      <th>team</th>\n",
              "      <th>matches</th>\n",
              "      <th>points</th>\n",
              "      <th>rating</th>\n",
              "      <th>gender</th>\n",
              "    </tr>\n",
              "  </thead>\n",
              "  <tbody>\n",
              "    <tr>\n",
              "      <th>0</th>\n",
              "      <td>1</td>\n",
              "      <td>Aus</td>\n",
              "      <td>15</td>\n",
              "      <td>2436</td>\n",
              "      <td>162</td>\n",
              "      <td>Female</td>\n",
              "    </tr>\n",
              "    <tr>\n",
              "      <th>1</th>\n",
              "      <td>2</td>\n",
              "      <td>Sou</td>\n",
              "      <td>24</td>\n",
              "      <td>2828</td>\n",
              "      <td>118</td>\n",
              "      <td>Female</td>\n",
              "    </tr>\n",
              "    <tr>\n",
              "      <th>2</th>\n",
              "      <td>3</td>\n",
              "      <td>Eng</td>\n",
              "      <td>17</td>\n",
              "      <td>1993</td>\n",
              "      <td>117</td>\n",
              "      <td>Female</td>\n",
              "    </tr>\n",
              "    <tr>\n",
              "      <th>3</th>\n",
              "      <td>4</td>\n",
              "      <td>Ind</td>\n",
              "      <td>20</td>\n",
              "      <td>2226</td>\n",
              "      <td>111</td>\n",
              "      <td>Female</td>\n",
              "    </tr>\n",
              "    <tr>\n",
              "      <th>4</th>\n",
              "      <td>5</td>\n",
              "      <td>New</td>\n",
              "      <td>18</td>\n",
              "      <td>1696</td>\n",
              "      <td>94</td>\n",
              "      <td>Female</td>\n",
              "    </tr>\n",
              "    <tr>\n",
              "      <th>5</th>\n",
              "      <td>6</td>\n",
              "      <td>Wes</td>\n",
              "      <td>12</td>\n",
              "      <td>1025</td>\n",
              "      <td>85</td>\n",
              "      <td>Female</td>\n",
              "    </tr>\n",
              "    <tr>\n",
              "      <th>6</th>\n",
              "      <td>7</td>\n",
              "      <td>Pak</td>\n",
              "      <td>15</td>\n",
              "      <td>1101</td>\n",
              "      <td>73</td>\n",
              "      <td>Female</td>\n",
              "    </tr>\n",
              "    <tr>\n",
              "      <th>7</th>\n",
              "      <td>8</td>\n",
              "      <td>Ban</td>\n",
              "      <td>5</td>\n",
              "      <td>306</td>\n",
              "      <td>61</td>\n",
              "      <td>Female</td>\n",
              "    </tr>\n",
              "    <tr>\n",
              "      <th>8</th>\n",
              "      <td>9</td>\n",
              "      <td>Sri</td>\n",
              "      <td>11</td>\n",
              "      <td>519</td>\n",
              "      <td>47</td>\n",
              "      <td>Female</td>\n",
              "    </tr>\n",
              "    <tr>\n",
              "      <th>9</th>\n",
              "      <td>10</td>\n",
              "      <td>Ire</td>\n",
              "      <td>2</td>\n",
              "      <td>25</td>\n",
              "      <td>13</td>\n",
              "      <td>Female</td>\n",
              "    </tr>\n",
              "    <tr>\n",
              "      <th>10</th>\n",
              "      <td>1</td>\n",
              "      <td>Eng</td>\n",
              "      <td>47</td>\n",
              "      <td>5708</td>\n",
              "      <td>121</td>\n",
              "      <td>Male</td>\n",
              "    </tr>\n",
              "    <tr>\n",
              "      <th>11</th>\n",
              "      <td>2</td>\n",
              "      <td>Ind</td>\n",
              "      <td>55</td>\n",
              "      <td>6520</td>\n",
              "      <td>119</td>\n",
              "      <td>Male</td>\n",
              "    </tr>\n",
              "    <tr>\n",
              "      <th>12</th>\n",
              "      <td>3</td>\n",
              "      <td>New</td>\n",
              "      <td>35</td>\n",
              "      <td>4137</td>\n",
              "      <td>118</td>\n",
              "      <td>Male</td>\n",
              "    </tr>\n",
              "    <tr>\n",
              "      <th>13</th>\n",
              "      <td>4</td>\n",
              "      <td>Aus</td>\n",
              "      <td>39</td>\n",
              "      <td>4344</td>\n",
              "      <td>111</td>\n",
              "      <td>Male</td>\n",
              "    </tr>\n",
              "    <tr>\n",
              "      <th>14</th>\n",
              "      <td>5</td>\n",
              "      <td>Sou</td>\n",
              "      <td>31</td>\n",
              "      <td>3345</td>\n",
              "      <td>108</td>\n",
              "      <td>Male</td>\n",
              "    </tr>\n",
              "    <tr>\n",
              "      <th>15</th>\n",
              "      <td>6</td>\n",
              "      <td>Pak</td>\n",
              "      <td>35</td>\n",
              "      <td>3490</td>\n",
              "      <td>100</td>\n",
              "      <td>Male</td>\n",
              "    </tr>\n",
              "    <tr>\n",
              "      <th>16</th>\n",
              "      <td>7</td>\n",
              "      <td>Ban</td>\n",
              "      <td>40</td>\n",
              "      <td>3567</td>\n",
              "      <td>89</td>\n",
              "      <td>Male</td>\n",
              "    </tr>\n",
              "    <tr>\n",
              "      <th>17</th>\n",
              "      <td>8</td>\n",
              "      <td>Sri</td>\n",
              "      <td>42</td>\n",
              "      <td>3372</td>\n",
              "      <td>80</td>\n",
              "      <td>Male</td>\n",
              "    </tr>\n",
              "    <tr>\n",
              "      <th>18</th>\n",
              "      <td>9</td>\n",
              "      <td>Wes</td>\n",
              "      <td>49</td>\n",
              "      <td>3802</td>\n",
              "      <td>78</td>\n",
              "      <td>Male</td>\n",
              "    </tr>\n",
              "    <tr>\n",
              "      <th>19</th>\n",
              "      <td>10</td>\n",
              "      <td>Afg</td>\n",
              "      <td>31</td>\n",
              "      <td>1844</td>\n",
              "      <td>59</td>\n",
              "      <td>Male</td>\n",
              "    </tr>\n",
              "    <tr>\n",
              "      <th>20</th>\n",
              "      <td>11</td>\n",
              "      <td>Ire</td>\n",
              "      <td>29</td>\n",
              "      <td>1316</td>\n",
              "      <td>45</td>\n",
              "      <td>Male</td>\n",
              "    </tr>\n",
              "    <tr>\n",
              "      <th>21</th>\n",
              "      <td>12</td>\n",
              "      <td>Net</td>\n",
              "      <td>5</td>\n",
              "      <td>222</td>\n",
              "      <td>44</td>\n",
              "      <td>Male</td>\n",
              "    </tr>\n",
              "    <tr>\n",
              "      <th>22</th>\n",
              "      <td>13</td>\n",
              "      <td>Zim</td>\n",
              "      <td>27</td>\n",
              "      <td>1121</td>\n",
              "      <td>42</td>\n",
              "      <td>Male</td>\n",
              "    </tr>\n",
              "    <tr>\n",
              "      <th>23</th>\n",
              "      <td>14</td>\n",
              "      <td>Oma</td>\n",
              "      <td>12</td>\n",
              "      <td>479</td>\n",
              "      <td>40</td>\n",
              "      <td>Male</td>\n",
              "    </tr>\n",
              "    <tr>\n",
              "      <th>24</th>\n",
              "      <td>15</td>\n",
              "      <td>Sco</td>\n",
              "      <td>16</td>\n",
              "      <td>419</td>\n",
              "      <td>26</td>\n",
              "      <td>Male</td>\n",
              "    </tr>\n",
              "    <tr>\n",
              "      <th>25</th>\n",
              "      <td>16</td>\n",
              "      <td>UAE</td>\n",
              "      <td>17</td>\n",
              "      <td>360</td>\n",
              "      <td>21</td>\n",
              "      <td>Male</td>\n",
              "    </tr>\n",
              "    <tr>\n",
              "      <th>26</th>\n",
              "      <td>17</td>\n",
              "      <td>Nep</td>\n",
              "      <td>9</td>\n",
              "      <td>161</td>\n",
              "      <td>18</td>\n",
              "      <td>Male</td>\n",
              "    </tr>\n",
              "    <tr>\n",
              "      <th>27</th>\n",
              "      <td>18</td>\n",
              "      <td>Nam</td>\n",
              "      <td>9</td>\n",
              "      <td>152</td>\n",
              "      <td>17</td>\n",
              "      <td>Male</td>\n",
              "    </tr>\n",
              "    <tr>\n",
              "      <th>28</th>\n",
              "      <td>19</td>\n",
              "      <td>USA</td>\n",
              "      <td>14</td>\n",
              "      <td>185</td>\n",
              "      <td>13</td>\n",
              "      <td>Male</td>\n",
              "    </tr>\n",
              "    <tr>\n",
              "      <th>29</th>\n",
              "      <td>20</td>\n",
              "      <td>PNG</td>\n",
              "      <td>14</td>\n",
              "      <td>0</td>\n",
              "      <td>0</td>\n",
              "      <td>Male</td>\n",
              "    </tr>\n",
              "  </tbody>\n",
              "</table>\n",
              "</div>"
            ],
            "text/plain": [
              "    pos team  matches  points  rating  gender\n",
              "0     1  Aus       15    2436     162  Female\n",
              "1     2  Sou       24    2828     118  Female\n",
              "2     3  Eng       17    1993     117  Female\n",
              "3     4  Ind       20    2226     111  Female\n",
              "4     5  New       18    1696      94  Female\n",
              "5     6  Wes       12    1025      85  Female\n",
              "6     7  Pak       15    1101      73  Female\n",
              "7     8  Ban        5     306      61  Female\n",
              "8     9  Sri       11     519      47  Female\n",
              "9    10  Ire        2      25      13  Female\n",
              "10    1  Eng       47    5708     121    Male\n",
              "11    2  Ind       55    6520     119    Male\n",
              "12    3  New       35    4137     118    Male\n",
              "13    4  Aus       39    4344     111    Male\n",
              "14    5  Sou       31    3345     108    Male\n",
              "15    6  Pak       35    3490     100    Male\n",
              "16    7  Ban       40    3567      89    Male\n",
              "17    8  Sri       42    3372      80    Male\n",
              "18    9  Wes       49    3802      78    Male\n",
              "19   10  Afg       31    1844      59    Male\n",
              "20   11  Ire       29    1316      45    Male\n",
              "21   12  Net        5     222      44    Male\n",
              "22   13  Zim       27    1121      42    Male\n",
              "23   14  Oma       12     479      40    Male\n",
              "24   15  Sco       16     419      26    Male\n",
              "25   16  UAE       17     360      21    Male\n",
              "26   17  Nep        9     161      18    Male\n",
              "27   18  Nam        9     152      17    Male\n",
              "28   19  USA       14     185      13    Male\n",
              "29   20  PNG       14       0       0    Male"
            ]
          },
          "metadata": {
            "tags": []
          },
          "execution_count": 36
        }
      ]
    },
    {
      "cell_type": "code",
      "metadata": {
        "colab": {
          "base_uri": "https://localhost:8080/",
          "height": 1000
        },
        "id": "ipfrNpvzGwIl",
        "outputId": "c3820fd7-65a9-4090-aa57-28af92f33020"
      },
      "source": [
        "f,ax=plt.subplots(figsize=(50,20))\n",
        "\n",
        "ax=sns.barplot('team','points',hue='gender',data=combined)"
      ],
      "execution_count": 37,
      "outputs": [
        {
          "output_type": "stream",
          "text": [
            "/usr/local/lib/python3.7/dist-packages/seaborn/_decorators.py:43: FutureWarning: Pass the following variables as keyword args: x, y. From version 0.12, the only valid positional argument will be `data`, and passing other arguments without an explicit keyword will result in an error or misinterpretation.\n",
            "  FutureWarning\n"
          ],
          "name": "stderr"
        },
        {
          "output_type": "display_data",
          "data": {
            "image/png": "[encoded data removed]",
            "text/plain": [
              "<Figure size 3600x1440 with 1 Axes>"
            ]
          },
          "metadata": {
            "tags": [],
            "needs_background": "light"
          }
        }
      ]
    },
    {
      "cell_type": "markdown",
      "metadata": {
        "id": "HLplRZo_K3RB"
      },
      "source": [
        "Here We see that There exists many team in which women do not play"
      ]
    },
    {
      "cell_type": "markdown",
      "metadata": {
        "id": "9UAamVFBLGhG"
      },
      "source": [
        "In the Women Team South Africa's Rating is Highest and Bangladsh's Rating is Lowest\n",
        "In The Men Team India's Rating is Highest and Namibia's Rating is Lowest"
      ]
    },
    {
      "cell_type": "markdown",
      "metadata": {
        "id": "pHaydkB_LqPy"
      },
      "source": [
        "Average Rating for both group is given by 'South Africa'"
      ]
    },
    {
      "cell_type": "code",
      "metadata": {
        "colab": {
          "base_uri": "https://localhost:8080/",
          "height": 587
        },
        "id": "M-BmHXDUG3E5",
        "outputId": "816bfec4-4515-447f-bbb5-1186e44c5a77"
      },
      "source": [
        "f,ax=plt.subplots(figsize=(20,10))\n",
        "ax=sns.scatterplot('team','matches',hue='gender',data=combined)"
      ],
      "execution_count": null,
      "outputs": [
        {
          "output_type": "stream",
          "text": [
            "/usr/local/lib/python3.7/dist-packages/seaborn/_decorators.py:43: FutureWarning: Pass the following variables as keyword args: x, y. From version 0.12, the only valid positional argument will be `data`, and passing other arguments without an explicit keyword will result in an error or misinterpretation.\n",
            "  FutureWarning\n"
          ],
          "name": "stderr"
        },
        {
          "output_type": "display_data",
          "data": {
            "image/png": "[encoded data removed]",
            "text/plain": [
              "<Figure size 1440x720 with 1 Axes>"
            ]
          },
          "metadata": {
            "tags": [],
            "needs_background": "light"
          }
        }
      ]
    },
    {
      "cell_type": "markdown",
      "metadata": {
        "id": "htOBTE5iL9aq"
      },
      "source": [
        "For Men Team India played highest number of matches and  Netherlands played lowest number of matches\n",
        "\n",
        "For Women Team SouthAfrica played highest number of matches and  Ireland played lowest number of matches"
      ]
    },
    {
      "cell_type": "markdown",
      "metadata": {
        "id": "8qCc6zMSM_V1"
      },
      "source": [
        "Here we conclude that women participation and performance among teams can be considered less effective way, team with higher match gives higher rating, but in men team playing more games than namibia, usa points rating is lower than namibia, so it doesn't depend on the number of match played, men performance vary with team.\n"
      ]
    }
  ]
}